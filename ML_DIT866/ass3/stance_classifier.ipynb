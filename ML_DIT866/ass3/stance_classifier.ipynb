{
  "nbformat": 4,
  "nbformat_minor": 0,
  "metadata": {
    "colab": {
      "name": "stance_classifier.ipynb",
      "provenance": [],
      "collapsed_sections": []
    },
    "kernelspec": {
      "name": "python3",
      "display_name": "Python 3"
    }
  },
  "cells": [
    {
      "cell_type": "code",
      "metadata": {
        "id": "QZZrqbJb1qAN"
      },
      "source": [
        "import numpy as np\n",
        "import pandas as pd\n",
        "from sklearn.feature_extraction import DictVectorizer\n",
        "from sklearn.feature_extraction.text import TfidfVectorizer\n",
        "from sklearn.model_selection import train_test_split, cross_val_score, RandomizedSearchCV, GridSearchCV\n",
        "from sklearn.pipeline import make_pipeline\n",
        "from sklearn.metrics import accuracy_score, confusion_matrix\n",
        "from sklearn.linear_model import LogisticRegression, Perceptron\n",
        "from sklearn.ensemble import RandomForestClassifier, GradientBoostingClassifier\n",
        "from sklearn.svm import SVC\n",
        "from scipy.stats import expon, randint"
      ],
      "execution_count": 2,
      "outputs": []
    },
    {
      "cell_type": "markdown",
      "metadata": {
        "id": "nGeQLQRV1_Y9"
      },
      "source": [
        "# Data preprocessing and cleaning"
      ]
    },
    {
      "cell_type": "code",
      "metadata": {
        "id": "Gjr8PLsL2MQT"
      },
      "source": [
        "# Getting the data\n",
        "data_url1 = 'http://www.cse.chalmers.se/~richajo/dit866/data/a3_first_sample.tsv'\n",
        "data_url2 = 'http://www.cse.chalmers.se/~richajo/dit866/assignments/a3/data/a3_train_round1.tsv'\n",
        "data_url3 = 'http://www.cse.chalmers.se/~richajo/dit866/assignments/a3/data/a3_train_final.tsv'\n",
        "data_url_test = 'http://www.cse.chalmers.se/~richajo/dit866/assignments/a3/data/a3_test.tsv'\n",
        "dataTrain = pd.read_csv(data_url3, sep='\\t', names=['stance', 'text'])\n",
        "dataTest = pd.read_csv(data_url_test, sep = '\\t', names = ['stance', 'text'])\n",
        "\n",
        "Xtrain = dataTrain['text']\n",
        "Ytrain = dataTrain['stance']\n",
        "\n",
        "Xtest = dataTest['text']\n",
        "Ytest = dataTest['stance']"
      ],
      "execution_count": 3,
      "outputs": []
    },
    {
      "cell_type": "markdown",
      "metadata": {
        "id": "iQx5vXXc1S4R"
      },
      "source": [
        "Lets take alook at the data:"
      ]
    },
    {
      "cell_type": "code",
      "metadata": {
        "colab": {
          "base_uri": "https://localhost:8080/"
        },
        "id": "2nHxTCh1Qd8V",
        "outputId": "dcaf55dc-9f1d-428d-da81-4ce8b9349546"
      },
      "source": [
        "Ytrain"
      ],
      "execution_count": null,
      "outputs": [
        {
          "output_type": "execute_result",
          "data": {
            "text/plain": [
              "0       0/-1\n",
              "1        0/0\n",
              "2       0/-1\n",
              "3       1/-1\n",
              "4       0/-1\n",
              "        ... \n",
              "8783     1/1\n",
              "8784     0/0\n",
              "8785     0/0\n",
              "8786     0/0\n",
              "8787     0/0\n",
              "Name: stance, Length: 8788, dtype: object"
            ]
          },
          "metadata": {
            "tags": []
          },
          "execution_count": 123
        }
      ]
    },
    {
      "cell_type": "markdown",
      "metadata": {
        "id": "MxNb0Gsn1YQr"
      },
      "source": [
        "We can see that these label will be diffucilt to use for aclassifactions so we will have to create afuntion that deals with this."
      ]
    },
    {
      "cell_type": "code",
      "metadata": {
        "id": "BjlXcORJF3JE"
      },
      "source": [
        "# this function looks at each cell and determines wheter or not the votes are \n",
        "# uniform.\n",
        "# All 0's: return negative (0)\n",
        "# All 1's: return positive (1)\n",
        "# Mixed:   return unsure (-1)\n",
        "def process_opinions(cell):\n",
        "  if '-' not in cell: # if no -1\n",
        "    votes = []\n",
        "    for ch in cell[::2]:\n",
        "      votes.append(int(ch))\n",
        "    if sum(votes) == 0: # if all 0's\n",
        "      return 0\n",
        "    elif sum(votes) == len(votes): # if all 1's\n",
        "      return 1\n",
        "    else:\n",
        "      return -1\n",
        "  else:\n",
        "    return -1 # if mixed \n"
      ],
      "execution_count": 4,
      "outputs": []
    },
    {
      "cell_type": "markdown",
      "metadata": {
        "id": "HXzXZ7A51hND"
      },
      "source": [
        "Now we can take a look at how the data is distributed."
      ]
    },
    {
      "cell_type": "code",
      "metadata": {
        "colab": {
          "base_uri": "https://localhost:8080/"
        },
        "id": "1WfJ2oF2Mh4P",
        "outputId": "9291fa32-999e-4b66-b33d-7442efb3a35a"
      },
      "source": [
        "Ytrain.apply(process_opinions).value_counts()"
      ],
      "execution_count": null,
      "outputs": [
        {
          "output_type": "execute_result",
          "data": {
            "text/plain": [
              "positive    3890\n",
              "negative    3626\n",
              "-1          1272\n",
              "Name: stance, dtype: int64"
            ]
          },
          "metadata": {
            "tags": []
          },
          "execution_count": 6
        }
      ]
    },
    {
      "cell_type": "markdown",
      "metadata": {
        "id": "yNFIrRZr1mT3"
      },
      "source": [
        "We will now clean the data by removing the unsure observations."
      ]
    },
    {
      "cell_type": "code",
      "metadata": {
        "id": "vwXy8IZpOODe"
      },
      "source": [
        "Ytrain_processed = Ytrain.apply(process_opinions)\n",
        "ind_certain = (Ytrain_processed != -1)\n",
        "\n",
        "Xtrain_cleaned = Xtrain[ind_certain].reset_index(drop=True)\n",
        "\n",
        "Ytrain_cleaned = Ytrain_processed[ind_certain].reset_index(drop=True)"
      ],
      "execution_count": 5,
      "outputs": []
    },
    {
      "cell_type": "code",
      "metadata": {
        "colab": {
          "base_uri": "https://localhost:8080/"
        },
        "id": "nYRxwAlRPuWL",
        "outputId": "a420e6d2-7b89-4de9-a9a1-ca9ac311eb64"
      },
      "source": [
        "Ytrain_cleaned.value_counts()"
      ],
      "execution_count": null,
      "outputs": [
        {
          "output_type": "execute_result",
          "data": {
            "text/plain": [
              "1    3890\n",
              "0    3626\n",
              "Name: stance, dtype: int64"
            ]
          },
          "metadata": {
            "tags": []
          },
          "execution_count": 53
        }
      ]
    },
    {
      "cell_type": "markdown",
      "metadata": {
        "id": "I9WVXD5h1vXY"
      },
      "source": [
        "Here we transform the data using a tf-idf tansformation."
      ]
    },
    {
      "cell_type": "code",
      "metadata": {
        "id": "ArmOmCGr7G6e"
      },
      "source": [
        "tdif = TfidfVectorizer()\n",
        "Xtrain_tfidf = tdif.fit_transform(Xtrain_cleaned)\n",
        "Xtest_tfidf = tdif.transform(Xtest)"
      ],
      "execution_count": 6,
      "outputs": []
    },
    {
      "cell_type": "markdown",
      "metadata": {
        "id": "VMVI568V16wP"
      },
      "source": [
        "# Model selection"
      ]
    },
    {
      "cell_type": "markdown",
      "metadata": {
        "id": "hTohZM2Q2Eyf"
      },
      "source": [
        "Here we will try logistic regression"
      ]
    },
    {
      "cell_type": "code",
      "metadata": {
        "colab": {
          "base_uri": "https://localhost:8080/"
        },
        "id": "--KO_dKr6MiX",
        "outputId": "5f7d891f-6e52-446a-e1d3-37b3c59a0d03"
      },
      "source": [
        "clf_lr = LogisticRegression()\n",
        "C_distr = expon(scale=1)\n",
        "param_grid = {'C': C_distr, 'max_iter': [1000]}\n",
        "gridsearch = RandomizedSearchCV(clf_lr, param_grid)\n",
        "gridsearch.fit(Xtrain_tfidf, Ytrain_cleaned)\n",
        "best = gridsearch.best_params_\n",
        "best_C = best['C']\n",
        "print(f'The best value for C: {best_C}')"
      ],
      "execution_count": null,
      "outputs": [
        {
          "output_type": "stream",
          "text": [
            "The best value for C: 4.581459841714967\n"
          ],
          "name": "stdout"
        }
      ]
    },
    {
      "cell_type": "code",
      "metadata": {
        "colab": {
          "base_uri": "https://localhost:8080/"
        },
        "id": "fPZn5lzwaeA1",
        "outputId": "50b633a9-9f38-42aa-8763-bceea98dc437"
      },
      "source": [
        "clf_lr = LogisticRegression(C=best['C'])\n",
        "cv_lr = cross_val_score(clf_lr, Xtrain_tfidf, Ytrain_cleaned)\n",
        "print(cv_lr.mean(), cv_lr.var())"
      ],
      "execution_count": null,
      "outputs": [
        {
          "output_type": "stream",
          "text": [
            "0.8304933572571169 0.00010539397634422945\n"
          ],
          "name": "stdout"
        }
      ]
    },
    {
      "cell_type": "markdown",
      "metadata": {
        "id": "JFgyBrdf2JFQ"
      },
      "source": [
        "Here will will try a perceptron classifier"
      ]
    },
    {
      "cell_type": "code",
      "metadata": {
        "colab": {
          "base_uri": "https://localhost:8080/"
        },
        "id": "HmQ-WdvL75mo",
        "outputId": "eb26f89b-598c-4f70-a1c7-b41cf8e0966a"
      },
      "source": [
        "clf_per = Perceptron()\n",
        "cross_val_score(clf_per, Xtrain_tfidf, Ytrain_cleaned).mean()"
      ],
      "execution_count": null,
      "outputs": [
        {
          "output_type": "execute_result",
          "data": {
            "text/plain": [
              "0.7944354199402612"
            ]
          },
          "metadata": {
            "tags": []
          },
          "execution_count": 189
        }
      ]
    },
    {
      "cell_type": "markdown",
      "metadata": {
        "id": "gTJ7k-Ye2N9K"
      },
      "source": [
        "And finally the support vector machine classifier"
      ]
    },
    {
      "cell_type": "code",
      "metadata": {
        "colab": {
          "base_uri": "https://localhost:8080/"
        },
        "id": "aDq6MLv7UYTZ",
        "outputId": "b1807cae-6f15-40a9-d5e1-e3c8a7852fd5"
      },
      "source": [
        "clf_svc = SVC()\n",
        "\n",
        "gamma_distr = expon(scale=1)\n",
        "C_distr = expon(scale=1)\n",
        "degree_distr = randint(1,10)\n",
        "param_grid_random = {'gamma': gamma_distr, 'C': C_distr, 'degree': degree_distr,\n",
        "                     'kernel': ['linear', 'rbf', 'poly']}\n",
        "\n",
        "randomsearch = RandomizedSearchCV(clf_svc, param_grid_random, n_iter=5, random_state=42)\n",
        "randomsearch.fit(Xtrain_tfidf, Ytrain_cleaned)\n",
        "best_svc = randomsearch.best_params_\n",
        "best_svc"
      ],
      "execution_count": null,
      "outputs": [
        {
          "output_type": "execute_result",
          "data": {
            "text/plain": [
              "{'C': 0.9190821536272645,\n",
              " 'degree': 8,\n",
              " 'gamma': 1.052363846077553,\n",
              " 'kernel': 'linear'}"
            ]
          },
          "metadata": {
            "tags": []
          },
          "execution_count": 77
        }
      ]
    },
    {
      "cell_type": "code",
      "metadata": {
        "id": "VVs1egNjcvqW"
      },
      "source": [
        "best_C = 0.919082\n",
        "best_gamma = 1.052364"
      ],
      "execution_count": 7,
      "outputs": []
    },
    {
      "cell_type": "code",
      "metadata": {
        "colab": {
          "base_uri": "https://localhost:8080/"
        },
        "id": "5lA0AKZ375v0",
        "outputId": "95d950e8-de8c-454c-a9a9-40335e24f7ff"
      },
      "source": [
        "clf_svc = SVC(C=best_C, kernel='linear')\n",
        "cvs_svc = cross_val_score(clf_svc, Xtrain_tfidf, Ytrain_cleaned)\n",
        "print(cvs_svc.mean(), cvs_svc.var())"
      ],
      "execution_count": 8,
      "outputs": [
        {
          "output_type": "stream",
          "text": [
            "0.8315574524709446 0.00011379852504303438\n"
          ],
          "name": "stdout"
        }
      ]
    },
    {
      "cell_type": "markdown",
      "metadata": {
        "id": "UYcDus9E2UDz"
      },
      "source": [
        "# Model evaluation\n",
        "Since the SVC model performed the best we will now evaluate it on the train data and later take a clooser look at it."
      ]
    },
    {
      "cell_type": "code",
      "metadata": {
        "colab": {
          "base_uri": "https://localhost:8080/"
        },
        "id": "JjzDdpUv2IvY",
        "outputId": "b5753b92-c889-4055-cc4c-3527cb09bb14"
      },
      "source": [
        "clf_svc.fit(Xtrain_tfidf, Ytrain_cleaned)"
      ],
      "execution_count": 9,
      "outputs": [
        {
          "output_type": "execute_result",
          "data": {
            "text/plain": [
              "SVC(C=0.919082, break_ties=False, cache_size=200, class_weight=None, coef0=0.0,\n",
              "    decision_function_shape='ovr', degree=3, gamma='scale', kernel='linear',\n",
              "    max_iter=-1, probability=False, random_state=None, shrinking=True,\n",
              "    tol=0.001, verbose=False)"
            ]
          },
          "metadata": {
            "tags": []
          },
          "execution_count": 9
        }
      ]
    },
    {
      "cell_type": "markdown",
      "metadata": {
        "id": "JIUPAgKh2ktI"
      },
      "source": [
        "Here below we will see the reulst for our model."
      ]
    },
    {
      "cell_type": "code",
      "metadata": {
        "colab": {
          "base_uri": "https://localhost:8080/"
        },
        "id": "i-0Z0KMn3XKe",
        "outputId": "ca669cbc-0416-4290-be48-84f968336971"
      },
      "source": [
        "Ypred = clf_svc.predict(Xtest_tfidf)\n",
        "print(accuracy_score(Ytest, Ypred))\n",
        "confusion_matrix(Ytest,Ypred)"
      ],
      "execution_count": 22,
      "outputs": [
        {
          "output_type": "stream",
          "text": [
            "0.8801020408163265\n"
          ],
          "name": "stdout"
        },
        {
          "output_type": "execute_result",
          "data": {
            "text/plain": [
              "array([[167,  31],\n",
              "       [ 16, 178]])"
            ]
          },
          "metadata": {
            "tags": []
          },
          "execution_count": 22
        }
      ]
    },
    {
      "cell_type": "markdown",
      "metadata": {
        "id": "BNT9vahg3mIU"
      },
      "source": [
        "# Taking a closer look at the model"
      ]
    },
    {
      "cell_type": "markdown",
      "metadata": {
        "id": "evIzbsVt25Mx"
      },
      "source": [
        "Here below we can see all the wrongly classified observations."
      ]
    },
    {
      "cell_type": "code",
      "metadata": {
        "colab": {
          "base_uri": "https://localhost:8080/",
          "height": 1000
        },
        "id": "vemp7IYnQZO_",
        "outputId": "2233d8ea-3e7f-4db0-c02d-9212b05d05f5"
      },
      "source": [
        "test_data = pd.concat([Xtest, Ytest], axis=1)\n",
        "wrong_classifications = test_data.stance != Ypred\n",
        "test_data[wrong_classifications]"
      ],
      "execution_count": 23,
      "outputs": [
        {
          "output_type": "execute_result",
          "data": {
            "text/html": [
              "<div>\n",
              "<style scoped>\n",
              "    .dataframe tbody tr th:only-of-type {\n",
              "        vertical-align: middle;\n",
              "    }\n",
              "\n",
              "    .dataframe tbody tr th {\n",
              "        vertical-align: top;\n",
              "    }\n",
              "\n",
              "    .dataframe thead th {\n",
              "        text-align: right;\n",
              "    }\n",
              "</style>\n",
              "<table border=\"1\" class=\"dataframe\">\n",
              "  <thead>\n",
              "    <tr style=\"text-align: right;\">\n",
              "      <th></th>\n",
              "      <th>text</th>\n",
              "      <th>stance</th>\n",
              "    </tr>\n",
              "  </thead>\n",
              "  <tbody>\n",
              "    <tr>\n",
              "      <th>13</th>\n",
              "      <td>Alright, so now look into the covid protein sp...</td>\n",
              "      <td>0</td>\n",
              "    </tr>\n",
              "    <tr>\n",
              "      <th>19</th>\n",
              "      <td>AstraZeneca seems to be more effective and res...</td>\n",
              "      <td>1</td>\n",
              "    </tr>\n",
              "    <tr>\n",
              "      <th>21</th>\n",
              "      <td>Biontech and curevac basicly startet the mrna ...</td>\n",
              "      <td>1</td>\n",
              "    </tr>\n",
              "    <tr>\n",
              "      <th>31</th>\n",
              "      <td>Can’t wait until my son can get it.</td>\n",
              "      <td>1</td>\n",
              "    </tr>\n",
              "    <tr>\n",
              "      <th>34</th>\n",
              "      <td>Covid and the mask isn’t the problem. It’s the...</td>\n",
              "      <td>0</td>\n",
              "    </tr>\n",
              "    <tr>\n",
              "      <th>48</th>\n",
              "      <td>Even if u have the vaccine u dont get to go ba...</td>\n",
              "      <td>0</td>\n",
              "    </tr>\n",
              "    <tr>\n",
              "      <th>67</th>\n",
              "      <td>Got my 2nd dose of vaccine no symptoms and no ...</td>\n",
              "      <td>1</td>\n",
              "    </tr>\n",
              "    <tr>\n",
              "      <th>95</th>\n",
              "      <td>I can't believe anyone is fine with having gen...</td>\n",
              "      <td>0</td>\n",
              "    </tr>\n",
              "    <tr>\n",
              "      <th>103</th>\n",
              "      <td>I don't understand why 20 percent of careworke...</td>\n",
              "      <td>1</td>\n",
              "    </tr>\n",
              "    <tr>\n",
              "      <th>110</th>\n",
              "      <td>I feel so bad for all the people who are being...</td>\n",
              "      <td>0</td>\n",
              "    </tr>\n",
              "    <tr>\n",
              "      <th>148</th>\n",
              "      <td>I think the vaccine is ok.</td>\n",
              "      <td>1</td>\n",
              "    </tr>\n",
              "    <tr>\n",
              "      <th>155</th>\n",
              "      <td>I will rather take care of my COVID and treat ...</td>\n",
              "      <td>0</td>\n",
              "    </tr>\n",
              "    <tr>\n",
              "      <th>158</th>\n",
              "      <td>I wish this kind of videos is what the media t...</td>\n",
              "      <td>1</td>\n",
              "    </tr>\n",
              "    <tr>\n",
              "      <th>163</th>\n",
              "      <td>I would NEVER consider myself an anti-vaxer bu...</td>\n",
              "      <td>0</td>\n",
              "    </tr>\n",
              "    <tr>\n",
              "      <th>171</th>\n",
              "      <td>I'll take my chances without getting the vacci...</td>\n",
              "      <td>0</td>\n",
              "    </tr>\n",
              "    <tr>\n",
              "      <th>172</th>\n",
              "      <td>I'll take my chances without the vaccine thank...</td>\n",
              "      <td>0</td>\n",
              "    </tr>\n",
              "    <tr>\n",
              "      <th>178</th>\n",
              "      <td>I'm just not sure I'll feel comfortable gettin...</td>\n",
              "      <td>0</td>\n",
              "    </tr>\n",
              "    <tr>\n",
              "      <th>183</th>\n",
              "      <td>I've been flush since I got it. I don't feel w...</td>\n",
              "      <td>0</td>\n",
              "    </tr>\n",
              "    <tr>\n",
              "      <th>184</th>\n",
              "      <td>If 90% of infected have viable immunity why va...</td>\n",
              "      <td>0</td>\n",
              "    </tr>\n",
              "    <tr>\n",
              "      <th>186</th>\n",
              "      <td>If no one decided to take the vaccine, we woul...</td>\n",
              "      <td>1</td>\n",
              "    </tr>\n",
              "    <tr>\n",
              "      <th>190</th>\n",
              "      <td>Im Scared That i will get the Side Effects T-T</td>\n",
              "      <td>0</td>\n",
              "    </tr>\n",
              "    <tr>\n",
              "      <th>218</th>\n",
              "      <td>Keep it going Moderna and thank you. Completel...</td>\n",
              "      <td>1</td>\n",
              "    </tr>\n",
              "    <tr>\n",
              "      <th>221</th>\n",
              "      <td>Let the rich take the shots first</td>\n",
              "      <td>0</td>\n",
              "    </tr>\n",
              "    <tr>\n",
              "      <th>223</th>\n",
              "      <td>Mail it to me.</td>\n",
              "      <td>1</td>\n",
              "    </tr>\n",
              "    <tr>\n",
              "      <th>227</th>\n",
              "      <td>Most are not anti vaxxers though, they just do...</td>\n",
              "      <td>0</td>\n",
              "    </tr>\n",
              "    <tr>\n",
              "      <th>228</th>\n",
              "      <td>Most vaccines are safe . Myself and my childre...</td>\n",
              "      <td>0</td>\n",
              "    </tr>\n",
              "    <tr>\n",
              "      <th>230</th>\n",
              "      <td>My brother had (predicted) complications from ...</td>\n",
              "      <td>1</td>\n",
              "    </tr>\n",
              "    <tr>\n",
              "      <th>253</th>\n",
              "      <td>Of course you should get it. What kind of nons...</td>\n",
              "      <td>1</td>\n",
              "    </tr>\n",
              "    <tr>\n",
              "      <th>255</th>\n",
              "      <td>Only 30 percent of Americans want to vaccine. ...</td>\n",
              "      <td>0</td>\n",
              "    </tr>\n",
              "    <tr>\n",
              "      <th>258</th>\n",
              "      <td>People are dying from the vaccines! Lord help us</td>\n",
              "      <td>0</td>\n",
              "    </tr>\n",
              "    <tr>\n",
              "      <th>260</th>\n",
              "      <td>People died already and other waiting tried to...</td>\n",
              "      <td>0</td>\n",
              "    </tr>\n",
              "    <tr>\n",
              "      <th>265</th>\n",
              "      <td>Poor people think that vaccines gonna save the...</td>\n",
              "      <td>0</td>\n",
              "    </tr>\n",
              "    <tr>\n",
              "      <th>269</th>\n",
              "      <td>Sadly, there's no vaccine against stupidity.</td>\n",
              "      <td>1</td>\n",
              "    </tr>\n",
              "    <tr>\n",
              "      <th>271</th>\n",
              "      <td>Scientific evidences? Who provides scientific ...</td>\n",
              "      <td>0</td>\n",
              "    </tr>\n",
              "    <tr>\n",
              "      <th>273</th>\n",
              "      <td>Sir I'm so much scarred to take vaccine</td>\n",
              "      <td>0</td>\n",
              "    </tr>\n",
              "    <tr>\n",
              "      <th>303</th>\n",
              "      <td>The next morning, Ching’s pharmacy was bombard...</td>\n",
              "      <td>0</td>\n",
              "    </tr>\n",
              "    <tr>\n",
              "      <th>304</th>\n",
              "      <td>The only thing worrying me is that gates funds...</td>\n",
              "      <td>0</td>\n",
              "    </tr>\n",
              "    <tr>\n",
              "      <th>305</th>\n",
              "      <td>The problem with this vaccine is that it sound...</td>\n",
              "      <td>0</td>\n",
              "    </tr>\n",
              "    <tr>\n",
              "      <th>306</th>\n",
              "      <td>The real virus is in those vaccines</td>\n",
              "      <td>0</td>\n",
              "    </tr>\n",
              "    <tr>\n",
              "      <th>329</th>\n",
              "      <td>Vaccine injuries have numbered in the millions.</td>\n",
              "      <td>0</td>\n",
              "    </tr>\n",
              "    <tr>\n",
              "      <th>351</th>\n",
              "      <td>Why get the vaccine if you can still get COVID...</td>\n",
              "      <td>0</td>\n",
              "    </tr>\n",
              "    <tr>\n",
              "      <th>352</th>\n",
              "      <td>Why should you vaccinate something that alread...</td>\n",
              "      <td>0</td>\n",
              "    </tr>\n",
              "    <tr>\n",
              "      <th>374</th>\n",
              "      <td>mRNA actually has been used alot, just not for...</td>\n",
              "      <td>1</td>\n",
              "    </tr>\n",
              "    <tr>\n",
              "      <th>376</th>\n",
              "      <td>must supply these VACCINATIONS AS SOON AS POSS...</td>\n",
              "      <td>1</td>\n",
              "    </tr>\n",
              "    <tr>\n",
              "      <th>378</th>\n",
              "      <td>my parents are scared of the vaccine since \" i...</td>\n",
              "      <td>1</td>\n",
              "    </tr>\n",
              "    <tr>\n",
              "      <th>382</th>\n",
              "      <td>shutting down the whole world for a year or mo...</td>\n",
              "      <td>0</td>\n",
              "    </tr>\n",
              "    <tr>\n",
              "      <th>385</th>\n",
              "      <td>the vaccines don’t even work</td>\n",
              "      <td>0</td>\n",
              "    </tr>\n",
              "  </tbody>\n",
              "</table>\n",
              "</div>"
            ],
            "text/plain": [
              "                                                  text  stance\n",
              "13   Alright, so now look into the covid protein sp...       0\n",
              "19   AstraZeneca seems to be more effective and res...       1\n",
              "21   Biontech and curevac basicly startet the mrna ...       1\n",
              "31                 Can’t wait until my son can get it.       1\n",
              "34   Covid and the mask isn’t the problem. It’s the...       0\n",
              "48   Even if u have the vaccine u dont get to go ba...       0\n",
              "67   Got my 2nd dose of vaccine no symptoms and no ...       1\n",
              "95   I can't believe anyone is fine with having gen...       0\n",
              "103  I don't understand why 20 percent of careworke...       1\n",
              "110  I feel so bad for all the people who are being...       0\n",
              "148                         I think the vaccine is ok.       1\n",
              "155  I will rather take care of my COVID and treat ...       0\n",
              "158  I wish this kind of videos is what the media t...       1\n",
              "163  I would NEVER consider myself an anti-vaxer bu...       0\n",
              "171  I'll take my chances without getting the vacci...       0\n",
              "172  I'll take my chances without the vaccine thank...       0\n",
              "178  I'm just not sure I'll feel comfortable gettin...       0\n",
              "183  I've been flush since I got it. I don't feel w...       0\n",
              "184  If 90% of infected have viable immunity why va...       0\n",
              "186  If no one decided to take the vaccine, we woul...       1\n",
              "190     Im Scared That i will get the Side Effects T-T       0\n",
              "218  Keep it going Moderna and thank you. Completel...       1\n",
              "221                  Let the rich take the shots first       0\n",
              "223                                     Mail it to me.       1\n",
              "227  Most are not anti vaxxers though, they just do...       0\n",
              "228  Most vaccines are safe . Myself and my childre...       0\n",
              "230  My brother had (predicted) complications from ...       1\n",
              "253  Of course you should get it. What kind of nons...       1\n",
              "255  Only 30 percent of Americans want to vaccine. ...       0\n",
              "258   People are dying from the vaccines! Lord help us       0\n",
              "260  People died already and other waiting tried to...       0\n",
              "265  Poor people think that vaccines gonna save the...       0\n",
              "269       Sadly, there's no vaccine against stupidity.       1\n",
              "271  Scientific evidences? Who provides scientific ...       0\n",
              "273            Sir I'm so much scarred to take vaccine       0\n",
              "303  The next morning, Ching’s pharmacy was bombard...       0\n",
              "304  The only thing worrying me is that gates funds...       0\n",
              "305  The problem with this vaccine is that it sound...       0\n",
              "306                The real virus is in those vaccines       0\n",
              "329    Vaccine injuries have numbered in the millions.       0\n",
              "351  Why get the vaccine if you can still get COVID...       0\n",
              "352  Why should you vaccinate something that alread...       0\n",
              "374  mRNA actually has been used alot, just not for...       1\n",
              "376  must supply these VACCINATIONS AS SOON AS POSS...       1\n",
              "378  my parents are scared of the vaccine since \" i...       1\n",
              "382  shutting down the whole world for a year or mo...       0\n",
              "385                       the vaccines don’t even work       0"
            ]
          },
          "metadata": {
            "tags": []
          },
          "execution_count": 23
        }
      ]
    },
    {
      "cell_type": "markdown",
      "metadata": {
        "id": "8lUZ4wb22_S2"
      },
      "source": [
        "The code below gathers the top ten weights with the lowest value and the top ten weights with the highest value and finds the intercept. "
      ]
    },
    {
      "cell_type": "code",
      "metadata": {
        "colab": {
          "base_uri": "https://localhost:8080/"
        },
        "id": "qMU5Gq7S60mw",
        "outputId": "0c1193f6-e0fe-4811-e123-0015c5d1959c"
      },
      "source": [
        "intercept = round(clf_svc.intercept_[0], ndigits=2)\n",
        "print(f'Intercept: {intercept}')\n",
        "\n",
        "coef = clf_svc.coef_\n",
        "highest = coef.A.argsort()[0][-10:][::-1]\n",
        "lowest = coef.A.argsort()[0][:10]\n",
        "\n",
        "print('Highest scoring parameters')\n",
        "for ind in highest:\n",
        "  word = tdif.get_feature_names()[ind]\n",
        "  value = round(coef.A[0][ind], ndigits = 2)\n",
        "  print(f'param = {value} for {word}')\n",
        "\n",
        "print('Lowest scoring parameters')\n",
        "for ind in lowest:\n",
        "  word = tdif.get_feature_names()[ind]\n",
        "  value = round(coef.A[0][ind], ndigits = 2)\n",
        "  print(f'param = {value} for {word}')"
      ],
      "execution_count": 14,
      "outputs": [
        {
          "output_type": "stream",
          "text": [
            "Intercept: -0.16\n",
            "Highest scoring parameters\n",
            "param = 2.63 for yes\n",
            "param = 2.58 for science\n",
            "param = 2.54 for vaxxers\n",
            "param = 2.39 for anti\n",
            "param = 2.32 for get\n",
            "param = 2.18 for hope\n",
            "param = 2.17 for every\n",
            "param = 2.16 for available\n",
            "param = 2.07 for vaccinated\n",
            "param = 2.06 for great\n",
            "Lowest scoring parameters\n",
            "param = -4.69 for not\n",
            "param = -3.66 for never\n",
            "param = -2.98 for no\n",
            "param = -2.96 for rushed\n",
            "param = -2.85 for experimental\n",
            "param = -2.8 for poison\n",
            "param = -2.63 for years\n",
            "param = -2.53 for test\n",
            "param = -2.44 for term\n",
            "param = -2.41 for don\n"
          ],
          "name": "stdout"
        }
      ]
    },
    {
      "cell_type": "markdown",
      "metadata": {
        "id": "pd33fF-H3QTu"
      },
      "source": [
        "This function prints out all the parameter values and does the computation for us. "
      ]
    },
    {
      "cell_type": "code",
      "metadata": {
        "id": "EN-9pYEEHO6S"
      },
      "source": [
        "def print_calc(word):\n",
        "  word = tdif.transform(word)\n",
        "  word_index = np.where(word.A[0]!=0)[0]\n",
        "  tdif_value = []\n",
        "  word_weight = []\n",
        "  word_order = []\n",
        "  intercept = clf_svc.intercept_\n",
        "  for ind in word_index:\n",
        "    word_order.append(tdif.get_feature_names()[ind])\n",
        "    word_weight.append(round(coef.A[0][ind], ndigits = 2))\n",
        "    tdif_value.append(round(word[0,ind],ndigits=2))\n",
        "\n",
        "  print(word_weight)\n",
        "  print(tdif_value)\n",
        "  print(word_order)\n",
        "  print()\n",
        "  print(np.dot(word_weight, tdif_value) + intercept)\n",
        "  print(clf_svc.predict(word))\n",
        "  return None\n"
      ],
      "execution_count": 26,
      "outputs": []
    },
    {
      "cell_type": "code",
      "metadata": {
        "colab": {
          "base_uri": "https://localhost:8080/"
        },
        "id": "UjB7SgZhx_S6",
        "outputId": "e7c941aa-2da2-4bcd-d724-6bb07cc37cc1"
      },
      "source": [
        "print_calc([\"I think the vaccine is ok\"])"
      ],
      "execution_count": 31,
      "outputs": [
        {
          "output_type": "stream",
          "text": [
            "[0.49, -0.16, 0.81, -0.89, 0.12]\n",
            "[0.3, 0.72, 0.19, 0.56, 0.22]\n",
            "['is', 'ok', 'the', 'think', 'vaccine']\n",
            "\n",
            "[-0.44703064]\n",
            "[0]\n"
          ],
          "name": "stdout"
        }
      ]
    },
    {
      "cell_type": "code",
      "metadata": {
        "colab": {
          "base_uri": "https://localhost:8080/"
        },
        "id": "zgpyo64fzsZa",
        "outputId": "d54120e2-7661-4244-d901-b31be67edf79"
      },
      "source": [
        "print_calc([\"the vaccines don’t even work\"])"
      ],
      "execution_count": 30,
      "outputs": [
        {
          "output_type": "stream",
          "text": [
            "[-2.41, -0.05, 0.81, 0.74, 1.44]\n",
            "[0.43, 0.56, 0.2, 0.38, 0.57]\n",
            "['don', 'even', 'the', 'vaccines', 'work']\n",
            "\n",
            "[0.03896936]\n",
            "[1]\n"
          ],
          "name": "stdout"
        }
      ]
    },
    {
      "cell_type": "code",
      "metadata": {
        "colab": {
          "base_uri": "https://localhost:8080/"
        },
        "id": "Bkr70iY02vm4",
        "outputId": "df633805-4401-49c0-ef5c-7445da787aee"
      },
      "source": [
        "print_calc([\"Alright, so now look into the covid protein spike and it's prion capable modification. Make sure you understand what you are getting yourself into when you take those shots, and it will also shed some light on the side effects you may have seen.\"])"
      ],
      "execution_count": 32,
      "outputs": [
        {
          "output_type": "stream",
          "text": [
            "[0.76, 0.26, 1.04, 0.11, -0.38, 0.57, 0.48, 1.23, -0.05, -1.12, -0.0, -0.21, -1.13, -0.75, 0.44, 0.0, 0.36, -0.16, -0.49, 0.44, 0.67, 0.66, 0.87, -0.14, -0.14, -0.86, 0.35, 0.81, 0.65, 1.65, -1.79, 0.49, 0.1, -0.7, 0.45]\n",
            "[0.25, 0.14, 0.12, 0.09, 0.25, 0.09, 0.12, 0.11, 0.09, 0.29, 0.13, 0.21, 0.18, 0.14, 0.16, 0.27, 0.13, 0.1, 0.2, 0.18, 0.18, 0.12, 0.09, 0.14, 0.22, 0.16, 0.09, 0.1, 0.14, 0.17, 0.12, 0.12, 0.09, 0.33, 0.18]\n",
            "['alright', 'also', 'and', 'are', 'capable', 'covid', 'effects', 'getting', 'have', 'into', 'it', 'light', 'look', 'make', 'may', 'modification', 'now', 'on', 'protein', 'seen', 'shots', 'side', 'so', 'some', 'spike', 'sure', 'take', 'the', 'those', 'understand', 'what', 'when', 'will', 'you', 'yourself']\n",
            "\n",
            "[0.02726936]\n",
            "[1]\n"
          ],
          "name": "stdout"
        }
      ]
    }
  ]
}