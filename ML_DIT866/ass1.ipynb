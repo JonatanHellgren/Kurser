{
  "nbformat": 4,
  "nbformat_minor": 0,
  "metadata": {
    "colab": {
      "name": "ass1.ipynb",
      "provenance": []
    },
    "kernelspec": {
      "name": "python3",
      "display_name": "Python 3"
    },
    "accelerator": "TPU"
  },
  "cells": [
    {
      "cell_type": "code",
      "metadata": {
        "colab": {
          "base_uri": "https://localhost:8080/",
          "height": 224
        },
        "id": "K_7-SLrM79sR",
        "outputId": "ceae798c-994e-4eee-a38e-3479bfc919e3"
      },
      "source": [
        "import pandas as pd\n",
        "from sklearn.model_selection import train_test_split\n",
        "  \n",
        "# Read the CSV file.\n",
        "url = 'http://www.cse.chalmers.se/~richajo/dit866/data/CTG.csv'\n",
        "data = pd.read_csv(url, skiprows=1)\n",
        "\n",
        "# Select the relevant numerical columns.\n",
        "selected_cols = ['LB', 'AC', 'FM', 'UC', 'DL', 'DS', 'DP', 'ASTV', 'MSTV', 'ALTV',\n",
        "                 'MLTV', 'Width', 'Min', 'Max', 'Nmax', 'Nzeros', 'Mode', 'Mean',\n",
        "                 'Median', 'Variance', 'Tendency', 'NSP']\n",
        "data = data[selected_cols].dropna()\n",
        "\n",
        "# Shuffle the dataset.\n",
        "data_shuffled = data.sample(frac=1.0, random_state=0)\n",
        "\n",
        "# Split into input part X and output part Y.\n",
        "X = data_shuffled.drop('NSP', axis=1)\n",
        "\n",
        "# Map the diagnosis code to a human-readable label.\n",
        "def to_label(y):\n",
        "    return [None, 'normal', 'suspect', 'pathologic'][(int(y))]\n",
        "\n",
        "Y = data_shuffled['NSP'].apply(to_label)\n",
        "\n",
        "# Partition the data into training and test sets.\n",
        "Xtrain, Xtest, Ytrain, Ytest = train_test_split(X, Y, test_size=0.2, random_state=0)\n",
        "\n",
        "# Peeking at the data\n",
        "X.head()"
      ],
      "execution_count": null,
      "outputs": [
        {
          "output_type": "execute_result",
          "data": {
            "text/html": [
              "<div>\n",
              "<style scoped>\n",
              "    .dataframe tbody tr th:only-of-type {\n",
              "        vertical-align: middle;\n",
              "    }\n",
              "\n",
              "    .dataframe tbody tr th {\n",
              "        vertical-align: top;\n",
              "    }\n",
              "\n",
              "    .dataframe thead th {\n",
              "        text-align: right;\n",
              "    }\n",
              "</style>\n",
              "<table border=\"1\" class=\"dataframe\">\n",
              "  <thead>\n",
              "    <tr style=\"text-align: right;\">\n",
              "      <th></th>\n",
              "      <th>LB</th>\n",
              "      <th>AC</th>\n",
              "      <th>FM</th>\n",
              "      <th>UC</th>\n",
              "      <th>DL</th>\n",
              "      <th>DS</th>\n",
              "      <th>DP</th>\n",
              "      <th>ASTV</th>\n",
              "      <th>MSTV</th>\n",
              "      <th>ALTV</th>\n",
              "      <th>MLTV</th>\n",
              "      <th>Width</th>\n",
              "      <th>Min</th>\n",
              "      <th>Max</th>\n",
              "      <th>Nmax</th>\n",
              "      <th>Nzeros</th>\n",
              "      <th>Mode</th>\n",
              "      <th>Mean</th>\n",
              "      <th>Median</th>\n",
              "      <th>Variance</th>\n",
              "      <th>Tendency</th>\n",
              "    </tr>\n",
              "  </thead>\n",
              "  <tbody>\n",
              "    <tr>\n",
              "      <th>658</th>\n",
              "      <td>130.0</td>\n",
              "      <td>1.0</td>\n",
              "      <td>0.0</td>\n",
              "      <td>3.0</td>\n",
              "      <td>0.0</td>\n",
              "      <td>0.0</td>\n",
              "      <td>0.0</td>\n",
              "      <td>24.0</td>\n",
              "      <td>1.2</td>\n",
              "      <td>12.0</td>\n",
              "      <td>7.6</td>\n",
              "      <td>35.0</td>\n",
              "      <td>120.0</td>\n",
              "      <td>155.0</td>\n",
              "      <td>1.0</td>\n",
              "      <td>0.0</td>\n",
              "      <td>134.0</td>\n",
              "      <td>133.0</td>\n",
              "      <td>135.0</td>\n",
              "      <td>1.0</td>\n",
              "      <td>0.0</td>\n",
              "    </tr>\n",
              "    <tr>\n",
              "      <th>1734</th>\n",
              "      <td>134.0</td>\n",
              "      <td>9.0</td>\n",
              "      <td>1.0</td>\n",
              "      <td>8.0</td>\n",
              "      <td>5.0</td>\n",
              "      <td>0.0</td>\n",
              "      <td>0.0</td>\n",
              "      <td>59.0</td>\n",
              "      <td>1.2</td>\n",
              "      <td>0.0</td>\n",
              "      <td>5.2</td>\n",
              "      <td>109.0</td>\n",
              "      <td>80.0</td>\n",
              "      <td>189.0</td>\n",
              "      <td>6.0</td>\n",
              "      <td>0.0</td>\n",
              "      <td>150.0</td>\n",
              "      <td>146.0</td>\n",
              "      <td>150.0</td>\n",
              "      <td>33.0</td>\n",
              "      <td>0.0</td>\n",
              "    </tr>\n",
              "    <tr>\n",
              "      <th>1226</th>\n",
              "      <td>125.0</td>\n",
              "      <td>1.0</td>\n",
              "      <td>0.0</td>\n",
              "      <td>4.0</td>\n",
              "      <td>0.0</td>\n",
              "      <td>0.0</td>\n",
              "      <td>0.0</td>\n",
              "      <td>43.0</td>\n",
              "      <td>0.7</td>\n",
              "      <td>31.0</td>\n",
              "      <td>7.8</td>\n",
              "      <td>21.0</td>\n",
              "      <td>120.0</td>\n",
              "      <td>141.0</td>\n",
              "      <td>0.0</td>\n",
              "      <td>0.0</td>\n",
              "      <td>131.0</td>\n",
              "      <td>130.0</td>\n",
              "      <td>132.0</td>\n",
              "      <td>1.0</td>\n",
              "      <td>0.0</td>\n",
              "    </tr>\n",
              "    <tr>\n",
              "      <th>1808</th>\n",
              "      <td>143.0</td>\n",
              "      <td>0.0</td>\n",
              "      <td>0.0</td>\n",
              "      <td>1.0</td>\n",
              "      <td>0.0</td>\n",
              "      <td>0.0</td>\n",
              "      <td>0.0</td>\n",
              "      <td>69.0</td>\n",
              "      <td>0.3</td>\n",
              "      <td>6.0</td>\n",
              "      <td>9.4</td>\n",
              "      <td>27.0</td>\n",
              "      <td>132.0</td>\n",
              "      <td>159.0</td>\n",
              "      <td>1.0</td>\n",
              "      <td>0.0</td>\n",
              "      <td>145.0</td>\n",
              "      <td>144.0</td>\n",
              "      <td>146.0</td>\n",
              "      <td>1.0</td>\n",
              "      <td>0.0</td>\n",
              "    </tr>\n",
              "    <tr>\n",
              "      <th>825</th>\n",
              "      <td>152.0</td>\n",
              "      <td>0.0</td>\n",
              "      <td>0.0</td>\n",
              "      <td>4.0</td>\n",
              "      <td>0.0</td>\n",
              "      <td>0.0</td>\n",
              "      <td>0.0</td>\n",
              "      <td>62.0</td>\n",
              "      <td>0.4</td>\n",
              "      <td>59.0</td>\n",
              "      <td>5.6</td>\n",
              "      <td>25.0</td>\n",
              "      <td>136.0</td>\n",
              "      <td>161.0</td>\n",
              "      <td>0.0</td>\n",
              "      <td>0.0</td>\n",
              "      <td>159.0</td>\n",
              "      <td>156.0</td>\n",
              "      <td>158.0</td>\n",
              "      <td>1.0</td>\n",
              "      <td>1.0</td>\n",
              "    </tr>\n",
              "  </tbody>\n",
              "</table>\n",
              "</div>"
            ],
            "text/plain": [
              "         LB   AC   FM   UC   DL  ...   Mode   Mean  Median  Variance  Tendency\n",
              "658   130.0  1.0  0.0  3.0  0.0  ...  134.0  133.0   135.0       1.0       0.0\n",
              "1734  134.0  9.0  1.0  8.0  5.0  ...  150.0  146.0   150.0      33.0       0.0\n",
              "1226  125.0  1.0  0.0  4.0  0.0  ...  131.0  130.0   132.0       1.0       0.0\n",
              "1808  143.0  0.0  0.0  1.0  0.0  ...  145.0  144.0   146.0       1.0       0.0\n",
              "825   152.0  0.0  0.0  4.0  0.0  ...  159.0  156.0   158.0       1.0       1.0\n",
              "\n",
              "[5 rows x 21 columns]"
            ]
          },
          "metadata": {
            "tags": []
          },
          "execution_count": 5
        }
      ]
    },
    {
      "cell_type": "markdown",
      "metadata": {
        "id": "7HbWDp6gptsa"
      },
      "source": [
        "# step 2\n",
        "dummy classifier"
      ]
    },
    {
      "cell_type": "code",
      "metadata": {
        "colab": {
          "base_uri": "https://localhost:8080/"
        },
        "id": "baxe9X3-8G2v",
        "outputId": "998f36a0-4aef-40a3-a1c9-63fcfd60fad1"
      },
      "source": [
        "from sklearn.dummy import DummyClassifier\n",
        "from sklearn.model_selection import cross_val_score\n",
        "\n",
        "clf = DummyClassifier(strategy='most_frequent')\n",
        "cross_val_score(clf, Xtrain, Ytrain)"
      ],
      "execution_count": null,
      "outputs": [
        {
          "output_type": "execute_result",
          "data": {
            "text/plain": [
              "array([0.78235294, 0.78235294, 0.77941176, 0.77941176, 0.77941176])"
            ]
          },
          "metadata": {
            "tags": []
          },
          "execution_count": 10
        }
      ]
    },
    {
      "cell_type": "markdown",
      "metadata": {
        "id": "QUs0jQxsp2bw"
      },
      "source": [
        "# Step 3\n",
        "testing:\n",
        "decision trees, random forrest, gradient boost, perceptron and logistig regression"
      ]
    },
    {
      "cell_type": "code",
      "metadata": {
        "id": "LuolWgtG9dKr"
      },
      "source": [
        "# Tree-based classifiers\n",
        "from sklearn.tree import DecisionTreeClassifier \n",
        "from sklearn.ensemble import RandomForestClassifier, GradientBoostingClassifier\n",
        "\n",
        "# Linear classifiers\n",
        "from sklearn.linear_model import Perceptron, LogisticRegression\n",
        "\n",
        "# some additional useful packages\n",
        "import numpy as np\n",
        "import matplotlib.pyplot as plt"
      ],
      "execution_count": null,
      "outputs": []
    },
    {
      "cell_type": "code",
      "metadata": {
        "colab": {
          "base_uri": "https://localhost:8080/",
          "height": 282
        },
        "id": "nc3wjahWA_-f",
        "outputId": "93416557-feff-4cf0-c909-a963b6ce9475"
      },
      "source": [
        "# Decision tree\n",
        "it = 20\n",
        "avg_acc = [] # used to store average accuracy for each depth\n",
        "acc = np.zeros(5) # used to store accuracy of every model\n",
        "\n",
        "# looping over different values for max_depth\n",
        "for xt in range(it): \n",
        "  clf_df = DecisionTreeClassifier(max_depth = xt+1)\n",
        "  score = cross_val_score(clf_df, Xtrain, Ytrain, cv=10)\n",
        "\n",
        "  # saving the mean cross validation score wich is in this case accuracy\n",
        "  avg_acc.append(np.mean(score)) \n",
        "\n",
        "# plotting how the accuracy changes with different parameter values\n",
        "plt.plot(range(1,21), avg_acc)\n",
        "\n",
        "# saving the best value\n",
        "best = np.argmax(avg_acc) + 1\n",
        "acc[0] = avg_acc[best]\n",
        "\n",
        "# printing the best value and it's value for the hyper parameter max_depth\n",
        "print('depth = ', best, 'score = ', avg_acc[best])\n"
      ],
      "execution_count": null,
      "outputs": [
        {
          "output_type": "stream",
          "text": [
            "depth =  9 score =  0.9323529411764706\n"
          ],
          "name": "stdout"
        },
        {
          "output_type": "display_data",
          "data": {
            "image/png": "[encoded data removed]",
            "text/plain": [
              "<Figure size 432x288 with 1 Axes>"
            ]
          },
          "metadata": {
            "tags": [],
            "needs_background": "light"
          }
        }
      ]
    },
    {
      "cell_type": "code",
      "metadata": {
        "colab": {
          "base_uri": "https://localhost:8080/",
          "height": 282
        },
        "id": "dtGGOFrMGM6r",
        "outputId": "a2f87e8a-d138-4e1f-f89f-67c37e9dd427"
      },
      "source": [
        "# Random forrest\n",
        "# method is similar to the one used for decision tree, since we are only tuning\n",
        "# the hyper parameter max_depth here as well.\n",
        "\n",
        "it = 20\n",
        "avg_acc = [] \n",
        "\n",
        "for xt in range(it):\n",
        "  clf_rf = RandomForestClassifier(max_depth = xt+1)\n",
        "  score = cross_val_score(clf_rf, Xtrain, Ytrain, cv=10)\n",
        "  avg_acc.append(np.mean(score))\n",
        "\n",
        "plt.plot(range(1,21), avg_acc)\n",
        "best = np.argmax(avg_acc) + 1\n",
        "\n",
        "acc[1] = avg_acc[best]\n",
        "\n",
        "print('depth = ', best, 'score = ', avg_acc[best])"
      ],
      "execution_count": null,
      "outputs": [
        {
          "output_type": "stream",
          "text": [
            "depth =  15 score =  0.9370588235294118\n"
          ],
          "name": "stdout"
        },
        {
          "output_type": "display_data",
          "data": {
            "image/png": "[encoded data removed]",
            "text/plain": [
              "<Figure size 432x288 with 1 Axes>"
            ]
          },
          "metadata": {
            "tags": [],
            "needs_background": "light"
          }
        }
      ]
    },
    {
      "cell_type": "markdown",
      "metadata": {
        "id": "Tn35iz_OtiC6"
      },
      "source": [
        "\n",
        "Now we are going to save he accuracy for the remaining methods. It is not necissary to tune the parameters that much at this moment so we will just use the default. "
      ]
    },
    {
      "cell_type": "code",
      "metadata": {
        "id": "cSzcXf5AHR4w"
      },
      "source": [
        "# Gradent boost\n",
        "clf_gb = GradientBoostingClassifier()\n",
        "acc[2] = np.mean(cross_val_score(clf_gb, Xtrain, Ytrain))\n"
      ],
      "execution_count": null,
      "outputs": []
    },
    {
      "cell_type": "code",
      "metadata": {
        "id": "m1YOxkFnJ68l"
      },
      "source": [
        "# Perceptron\n",
        "clf_per = Perceptron()\n",
        "acc[3] = np.mean(cross_val_score(clf_per, Xtrain, Ytrain))"
      ],
      "execution_count": null,
      "outputs": []
    },
    {
      "cell_type": "code",
      "metadata": {
        "id": "ZttSAyOuJ7Jy",
        "colab": {
          "base_uri": "https://localhost:8080/"
        },
        "outputId": "e3a64631-abcd-4cfd-ad61-bd30c075f06d"
      },
      "source": [
        "# Logistic regression\n",
        "\n",
        "# we need to scale the data for logistic regression\n",
        "from sklearn.preprocessing import StandardScaler \n",
        "scaler = StandardScaler().fit(Xtrain) \n",
        "Xtrain_scaled = scaler.transform(Xtrain)\n",
        "\n",
        "clf_lg = LogisticRegression()\n",
        "acc[4] = np.mean(cross_val_score(clf_lg, Xtrain_scaled, Ytrain))\n"
      ],
      "execution_count": 110,
      "outputs": [
        {
          "output_type": "stream",
          "text": [
            "0.891764705882353\n"
          ],
          "name": "stdout"
        }
      ]
    },
    {
      "cell_type": "code",
      "metadata": {
        "colab": {
          "base_uri": "https://localhost:8080/"
        },
        "id": "jAoXd8hRMUAg",
        "outputId": "1d7622b0-65a7-44f2-96c4-b98347531bbd"
      },
      "source": [
        "print(acc)"
      ],
      "execution_count": 111,
      "outputs": [
        {
          "output_type": "stream",
          "text": [
            "[0.93235294 0.93705882 0.95       0.82529412 0.89176471]\n"
          ],
          "name": "stdout"
        }
      ]
    },
    {
      "cell_type": "markdown",
      "metadata": {
        "id": "okMsBcSrp6TE"
      },
      "source": [
        "## Conclusion\n",
        "\n",
        "As we can see Gradient boost acheived the best cross validation score 0.95. So inte the following step we will be taking a closer look at this model."
      ]
    },
    {
      "cell_type": "markdown",
      "metadata": {
        "id": "lrsrUPE5tvi6"
      },
      "source": [
        "# Step 4"
      ]
    },
    {
      "cell_type": "code",
      "metadata": {
        "colab": {
          "base_uri": "https://localhost:8080/"
        },
        "id": "BQQl6mumwGEh",
        "outputId": "61a8b550-ef50-487c-f239-1dfffb4e0823"
      },
      "source": [
        "from itertools import product\n",
        "\n",
        "learning_rates = [0.7, 0.6, 0.5, 0.4, 0.3, 0.1]\n",
        "n_estimators = [64, 128, 256, 512, 1024, 2048, 4096]\n",
        "max_depths = range(2,5)\n",
        "\n",
        "best = 0 \n",
        "score = 0\n",
        "\n",
        "params = [0, 0, 0]\n",
        "count = 0\n",
        "\n",
        "# to find the best values we are doing an exhaulstic search\n",
        "# this takes a while but it is an easy way for finding the best hyper-parameter\n",
        "# values\n",
        "for lr, n_est, mx_dp in product(learning_rates, n_estimators, max_depths):\n",
        "\n",
        "  # printing out the progress\n",
        "  print(count/(len(learning_rates)*len(n_estimators)*len(max_depths))) \n",
        "\n",
        "  # printing \n",
        "  clf_gb = GradientBoostingClassifier(learning_rate=lr, n_estimators=n_est,\n",
        "                                      max_depth = mx_dp)\n",
        "  score = np.mean(cross_val_score(clf_gb, Xtrain, Ytrain, n_jobs = -1))\n",
        "\n",
        "  if score > best:\n",
        "    best = score\n",
        "    params = [lr, n_est, mx_dp]\n",
        "  \n",
        "  count+=1\n",
        "\n",
        "\n",
        "print(best, params)"
      ],
      "execution_count": null,
      "outputs": [
        {
          "output_type": "stream",
          "text": [
            "0.0\n",
            "0.007936507936507936\n",
            "0.015873015873015872\n",
            "0.023809523809523808\n",
            "0.031746031746031744\n",
            "0.03968253968253968\n",
            "0.047619047619047616\n",
            "0.05555555555555555\n",
            "0.06349206349206349\n",
            "0.07142857142857142\n",
            "0.07936507936507936\n",
            "0.0873015873015873\n",
            "0.09523809523809523\n",
            "0.10317460317460317\n",
            "0.1111111111111111\n",
            "0.11904761904761904\n"
          ],
          "name": "stdout"
        }
      ]
    },
    {
      "cell_type": "markdown",
      "metadata": {
        "id": "ifhmPP5ZLM8c"
      },
      "source": [
        ""
      ]
    },
    {
      "cell_type": "code",
      "metadata": {
        "colab": {
          "base_uri": "https://localhost:8080/"
        },
        "id": "laj_C1Z32-Uc",
        "outputId": "f27c6fed-3421-40b7-c8c9-ea620fd963fa"
      },
      "source": [
        "\n",
        "print(best, params)"
      ],
      "execution_count": 128,
      "outputs": [
        {
          "output_type": "stream",
          "text": [
            "0.9529411764705882 [0.5, 256]\n"
          ],
          "name": "stdout"
        }
      ]
    }
  ]
}